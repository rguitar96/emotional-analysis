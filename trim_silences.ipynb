{
 "cells": [
  {
   "cell_type": "code",
   "execution_count": 28,
   "metadata": {},
   "outputs": [],
   "source": [
    "import subprocess, re, sys, os, tqdm, shutils\n",
    "from shutil import copyfile"
   ]
  },
  {
   "cell_type": "code",
   "execution_count": 2,
   "metadata": {},
   "outputs": [],
   "source": [
    "FFMPEG_PATH = \"ffmpeg-N-99973-g0066bf4d1a-win64-gpl-shared-vulkan\\\\bin\\\\ffmpeg.exe\"\n",
    "\n",
    "THRESHOLD = -50\n",
    "\n",
    "DURATION = 0.4"
   ]
  },
  {
   "cell_type": "markdown",
   "metadata": {},
   "source": [
    "#### Let's first test one file"
   ]
  },
  {
   "cell_type": "code",
   "execution_count": 3,
   "metadata": {},
   "outputs": [],
   "source": [
    "TEST_VIDEO = \"ravdess\\\\video\\\\Actor_01\\\\01-01-01-01-01-01-01.mp4\""
   ]
  },
  {
   "cell_type": "code",
   "execution_count": 4,
   "metadata": {},
   "outputs": [
    {
     "data": {
      "text/plain": [
       "0"
      ]
     },
     "execution_count": 4,
     "metadata": {},
     "output_type": "execute_result"
    }
   ],
   "source": [
    "# ffmpeg-N-99973-g0066bf4d1a-win64-gpl-shared-vulkan\\bin\\ffmpeg.exe -i ravdess\\audio\\Actor_01\\03-01-01-01-01-01-01.wav \n",
    "# -af silencedetect=n=-50dB:d=0.5 -f null - 2> sdout.txt\n",
    "\n",
    "subprocess.call(FFMPEG_PATH+' -i '+TEST_VIDEO+' -af silencedetect=n=' + str(THRESHOLD) + 'dB:d=' + \\\n",
    "                    str(DURATION) + ' -f null - 2> sdout.txt', shell=True)"
   ]
  },
  {
   "cell_type": "code",
   "execution_count": 5,
   "metadata": {},
   "outputs": [],
   "source": [
    "with open(\"sdout.txt\") as f:\n",
    "    out_txt = f.read()"
   ]
  },
  {
   "cell_type": "code",
   "execution_count": 6,
   "metadata": {},
   "outputs": [],
   "source": [
    "start_times = []\n",
    "end_times = []"
   ]
  },
  {
   "cell_type": "code",
   "execution_count": 7,
   "metadata": {},
   "outputs": [],
   "source": [
    "for line in out_txt.split(\"\\n\"):\n",
    "    if \"silence_start\" in line: start_times.append(re.search('.*?:\\s([\\d\\.]*)', line).group(1))\n",
    "    if \"silence_end\" in line: end_times.append(re.search('.*?:\\s([\\d\\.]*)', line).group(1))"
   ]
  },
  {
   "cell_type": "code",
   "execution_count": 8,
   "metadata": {},
   "outputs": [
    {
     "data": {
      "text/plain": [
       "['0', '2.26673']"
      ]
     },
     "execution_count": 8,
     "metadata": {},
     "output_type": "execute_result"
    }
   ],
   "source": [
    "start_times"
   ]
  },
  {
   "cell_type": "code",
   "execution_count": 9,
   "metadata": {},
   "outputs": [
    {
     "data": {
      "text/plain": [
       "['0.858375', '3.30667']"
      ]
     },
     "execution_count": 9,
     "metadata": {},
     "output_type": "execute_result"
    }
   ],
   "source": [
    "end_times"
   ]
  },
  {
   "cell_type": "code",
   "execution_count": 10,
   "metadata": {},
   "outputs": [
    {
     "data": {
      "text/plain": [
       "0"
      ]
     },
     "execution_count": 10,
     "metadata": {},
     "output_type": "execute_result"
    }
   ],
   "source": [
    "# ffmpeg-N-99973-g0066bf4d1a-win64-gpl-shared-vulkan\\bin\\ffmpeg.exe -i \n",
    "# ravdess\\video\\Actor_01\\01-01-01-01-01-01-01.mp4 -ss 0.858375 -t 2.26673 -async 1 cut.mp4\n",
    "\n",
    "subprocess.call(FFMPEG_PATH+' -i '+TEST_VIDEO+' -ss '+end_times[0]+' -t '+start_times[1]+' -async 1 cut.mp4', shell=True)"
   ]
  },
  {
   "cell_type": "code",
   "execution_count": 11,
   "metadata": {},
   "outputs": [],
   "source": [
    "os.remove(\"cut.mp4\")\n",
    "os.remove(\"sdout.txt\")"
   ]
  },
  {
   "cell_type": "markdown",
   "metadata": {},
   "source": [
    "#### Now, for the whole dataset"
   ]
  },
  {
   "cell_type": "code",
   "execution_count": 32,
   "metadata": {},
   "outputs": [
    {
     "name": "stderr",
     "output_type": "stream",
     "text": [
      "25it [05:38, 13.54s/it]\n"
     ]
    }
   ],
   "source": [
    "audio_root = \"./ravdess/audio\"\n",
    "video_root = \"./ravdess/video\"\n",
    "\n",
    "\n",
    "for root, dirs, files in tqdm.tqdm(os.walk(audio_root, topdown=False)):\n",
    "    for file in files:\n",
    "        subprocess.call(FFMPEG_PATH+' -i '+os.path.join(root,file)+' -af silencedetect=n=' + str(THRESHOLD) + 'dB:d=' + \\\n",
    "                    str(DURATION) + ' -f null - 2> sdout.txt', shell=True)\n",
    "        with open(\"sdout.txt\") as f:\n",
    "            out_txt = f.read()\n",
    "        start_times = []\n",
    "        end_times = []\n",
    "        \n",
    "        if not os.path.exists(root.replace(\"audio\", \"audio_trim\")):\n",
    "            os.makedirs(root.replace(\"audio\", \"audio_trim\"))\n",
    "        \n",
    "        \n",
    "        for line in out_txt.split(\"\\n\"):\n",
    "            if \"silence_start\" in line: start_times.append(re.search('.*?:\\s([\\d\\.]*)', line).group(1))\n",
    "            if \"silence_end\" in line: end_times.append(re.search('.*?:\\s([\\d\\.]*)', line).group(1))\n",
    "                \n",
    "        if len(start_times) != 2:\n",
    "            copyfile(os.path.join(root,file), os.path.join(root.replace(\"audio\", \"audio_trim\"),file))\n",
    "        else:\n",
    "            start = end_times[0]\n",
    "            end = start_times[-1]\n",
    "            \n",
    "            subprocess.call(FFMPEG_PATH+' -i '+os.path.join(root,file)+' -ss '+start+' -t '+end+ \\\n",
    "                        ' -async 1 '+os.path.join(root.replace(\"audio\", \"audio_trim\"),file), shell=True)"
   ]
  },
  {
   "cell_type": "code",
   "execution_count": 33,
   "metadata": {},
   "outputs": [
    {
     "name": "stderr",
     "output_type": "stream",
     "text": [
      "25it [37:05, 89.04s/it]\n"
     ]
    }
   ],
   "source": [
    "audio_root = \"./ravdess/audio\"\n",
    "video_root = \"./ravdess/video\"\n",
    "\n",
    "\n",
    "for root, dirs, files in tqdm.tqdm(os.walk(video_root, topdown=False)):\n",
    "    for file in files:\n",
    "        subprocess.call(FFMPEG_PATH+' -i '+os.path.join(root,file)+' -af silencedetect=n=' + str(THRESHOLD) + 'dB:d=' + \\\n",
    "                    str(DURATION) + ' -f null - 2> sdout.txt', shell=True)\n",
    "        with open(\"sdout.txt\") as f:\n",
    "            out_txt = f.read()\n",
    "        start_times = []\n",
    "        end_times = []\n",
    "        \n",
    "        if not os.path.exists(root.replace(\"video\", \"video_trim\")):\n",
    "            os.makedirs(root.replace(\"video\", \"video_trim\"))\n",
    "        \n",
    "        \n",
    "        for line in out_txt.split(\"\\n\"):\n",
    "            if \"silence_start\" in line: start_times.append(re.search('.*?:\\s([\\d\\.]*)', line).group(1))\n",
    "            if \"silence_end\" in line: end_times.append(re.search('.*?:\\s([\\d\\.]*)', line).group(1))\n",
    "                \n",
    "        if len(start_times) != 2:\n",
    "            copyfile(os.path.join(root,file), os.path.join(root.replace(\"video\", \"video_trim\"),file))\n",
    "        else:\n",
    "            start = end_times[0]\n",
    "            end = start_times[-1]\n",
    "            \n",
    "            subprocess.call(FFMPEG_PATH+' -i '+os.path.join(root,file)+' -ss '+start+' -t '+end+ \\\n",
    "                        ' -async 1 '+os.path.join(root.replace(\"video\", \"video_trim\"),file), shell=True)"
   ]
  },
  {
   "cell_type": "code",
   "execution_count": null,
   "metadata": {},
   "outputs": [],
   "source": []
  }
 ],
 "metadata": {
  "kernelspec": {
   "display_name": "Python 3",
   "language": "python",
   "name": "python3"
  },
  "language_info": {
   "codemirror_mode": {
    "name": "ipython",
    "version": 3
   },
   "file_extension": ".py",
   "mimetype": "text/x-python",
   "name": "python",
   "nbconvert_exporter": "python",
   "pygments_lexer": "ipython3",
   "version": "3.8.2"
  }
 },
 "nbformat": 4,
 "nbformat_minor": 2
}
